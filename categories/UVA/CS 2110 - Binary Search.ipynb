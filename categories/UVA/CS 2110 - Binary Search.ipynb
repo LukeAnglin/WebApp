{
 "cells": [
  {
   "cell_type": "code",
   "execution_count": 15,
   "metadata": {
    "code_folding": []
   },
   "outputs": [
    {
     "name": "stdout",
     "output_type": "stream",
     "text": [
      "return binary_search(arr, low = 0, hi = 4, searching for 10)\n",
      "Mid: 3\n",
      "Element is present at index 3\n"
     ]
    }
   ],
   "source": [
    "# Python 3 program for recursive binary search. \n",
    "# Modifications needed for the older Python 2 are found in comments. \n",
    "\n",
    "# Returns index of x in arr if present, else -1 \n",
    "def binary_search(arr, low, high, x): \n",
    "\n",
    "    # Check base case \n",
    "    if high >= low: \n",
    "\n",
    "        mid = (high + low) // 2\n",
    "\n",
    "\t\t# If element is present at the middle itself \n",
    "        if arr[mid] == x: \n",
    "            print(\"Mid: \" + str(mid))\n",
    "            return mid \n",
    "\n",
    "\t\t# If element is smaller than mid, then it can only \n",
    "\t\t# be present in left subarray \n",
    "        elif arr[mid] > x: \n",
    "            print(f'return binary_search(arr, low = {low}, hi = {high}, searching for {x}')\n",
    "            return binary_search(arr, low, mid - 1, x) \n",
    "\n",
    "\t\t# Else the element can only be present in right subarray \n",
    "        else: \n",
    "            print(f'return binary_search(arr, low = {low}, hi = {high}, searching for {x})')\n",
    "            return binary_search(arr, mid + 1, high, x) \n",
    "\n",
    "    else: \n",
    "        return -1\n",
    "\n",
    "# Test array \n",
    "arr = [ 2, 3, 4, 10, 40 ] \n",
    "x = 10\n",
    "\n",
    "# Function call \n",
    "result = binary_search(arr, 0, len(arr)-1, x) \n",
    "\n",
    "if result != -1: \n",
    "    print(\"Element is present at index\", str(result)) \n",
    "else: \n",
    "    print(\"Element is not present in array\") "
   ]
  },
  {
   "cell_type": "code",
   "execution_count": 18,
   "metadata": {},
   "outputs": [
    {
     "name": "stdout",
     "output_type": "stream",
     "text": [
      "return binary_search(arr, low = 0, hi = 14, searching for 2\n",
      "return binary_search(arr, low = 0, hi = 6, searching for 2\n",
      "return binary_search(arr, low = 0, hi = 2, searching for 2)\n",
      "Mid: 2\n"
     ]
    },
    {
     "data": {
      "text/plain": [
       "2"
      ]
     },
     "execution_count": 18,
     "metadata": {},
     "output_type": "execute_result"
    }
   ],
   "source": [
    "arr = [0, 1, 2, 3, 4, 5, 6, 8, 9, 10, 11, 12, 13, 14]\n",
    "binary_search(arr, 0, len(arr), 2)"
   ]
  },
  {
   "cell_type": "code",
   "execution_count": null,
   "metadata": {},
   "outputs": [],
   "source": []
  }
 ],
 "metadata": {
  "hide_input": false,
  "kernelspec": {
   "display_name": "Python 3",
   "language": "python",
   "name": "python3"
  },
  "language_info": {
   "codemirror_mode": {
    "name": "ipython",
    "version": 3
   },
   "file_extension": ".py",
   "mimetype": "text/x-python",
   "name": "python",
   "nbconvert_exporter": "python",
   "pygments_lexer": "ipython3",
   "version": "3.8.3"
  },
  "toc": {
   "base_numbering": 1,
   "nav_menu": {},
   "number_sections": true,
   "sideBar": true,
   "skip_h1_title": false,
   "title_cell": "Table of Contents",
   "title_sidebar": "Contents",
   "toc_cell": false,
   "toc_position": {},
   "toc_section_display": true,
   "toc_window_display": true
  },
  "varInspector": {
   "cols": {
    "lenName": 16,
    "lenType": 16,
    "lenVar": 40
   },
   "kernels_config": {
    "python": {
     "delete_cmd_postfix": "",
     "delete_cmd_prefix": "del ",
     "library": "var_list.py",
     "varRefreshCmd": "print(var_dic_list())"
    },
    "r": {
     "delete_cmd_postfix": ") ",
     "delete_cmd_prefix": "rm(",
     "library": "var_list.r",
     "varRefreshCmd": "cat(var_dic_list()) "
    }
   },
   "types_to_exclude": [
    "module",
    "function",
    "builtin_function_or_method",
    "instance",
    "_Feature"
   ],
   "window_display": false
  }
 },
 "nbformat": 4,
 "nbformat_minor": 4
}
